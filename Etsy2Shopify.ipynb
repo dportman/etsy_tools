{
 "cells": [
  {
   "cell_type": "code",
   "execution_count": 1,
   "metadata": {},
   "outputs": [
    {
     "name": "stdout",
     "output_type": "stream",
     "text": [
      "Once deleted, variables cannot be recovered. Proceed (y/[n])? y\n"
     ]
    }
   ],
   "source": [
    "import pandas as pd\n",
    "\n",
    "def clean_description(description):\n",
    "    words_to_omit = ['**']\n",
    "    split_description = description.split('\\n')\n",
    "    clean = ''\n",
    "    for line in split_description:\n",
    "        for word in words_to_omit:\n",
    "            if word in line:\n",
    "                line = ''           \n",
    "        clean = clean + line + '\\n'\n",
    "    return clean\n",
    "\n",
    "data = pd.read_csv('EtsyListingsDownload.csv')\n",
    "data.TAGS = data.TAGS.apply(lambda tag:  tag.replace(\"_\", \" \"))\n",
    "data.DESCRIPTION = data.DESCRIPTION.apply(lambda tag:  tag.replace('\\n\\n', \"\\n\"))\n",
    "data.TITLE = data.TITLE.apply(lambda title: (','.join(title[0:99].split(',')[0:-1])))\n",
    "data.to_csv(\"output.csv\", sep =',')"
   ]
  },
  {
   "cell_type": "code",
   "execution_count": null,
   "metadata": {
    "collapsed": true
   },
   "outputs": [],
   "source": []
  }
 ],
 "metadata": {
  "anaconda-cloud": {},
  "kernelspec": {
   "display_name": "Python 3",
   "language": "python",
   "name": "python3"
  },
  "language_info": {
   "codemirror_mode": {
    "name": "ipython",
    "version": 3
   },
   "file_extension": ".py",
   "mimetype": "text/x-python",
   "name": "python",
   "nbconvert_exporter": "python",
   "pygments_lexer": "ipython3",
   "version": "3.7.3"
  }
 },
 "nbformat": 4,
 "nbformat_minor": 1
}
